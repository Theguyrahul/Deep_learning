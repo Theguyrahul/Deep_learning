{
  "cells": [
    {
      "cell_type": "markdown",
      "metadata": {
        "colab_type": "text",
        "id": "3DR-eO17geWu"
      },
      "source": [
        "# Convolutional Neural Network"
      ]
    },
    {
      "cell_type": "markdown",
      "metadata": {
        "colab_type": "text",
        "id": "EMefrVPCg-60"
      },
      "source": [
        "### Importing the libraries"
      ]
    },
    {
      "cell_type": "code",
      "execution_count": 1,
      "metadata": {
        "colab": {},
        "colab_type": "code",
        "id": "sCV30xyVhFbE"
      },
      "outputs": [],
      "source": [
        "import tensorflow as tf\n",
        "from keras.preprocessing.image import ImageDataGenerator"
      ]
    },
    {
      "cell_type": "code",
      "execution_count": 2,
      "metadata": {
        "colab": {},
        "colab_type": "code",
        "id": "FIleuCAjoFD8"
      },
      "outputs": [
        {
          "data": {
            "text/plain": [
              "'2.8.0'"
            ]
          },
          "execution_count": 2,
          "metadata": {},
          "output_type": "execute_result"
        }
      ],
      "source": [
        "tf.__version__"
      ]
    },
    {
      "cell_type": "markdown",
      "metadata": {
        "colab_type": "text",
        "id": "oxQxCBWyoGPE"
      },
      "source": [
        "## Part 1 - Data Preprocessing"
      ]
    },
    {
      "cell_type": "markdown",
      "metadata": {
        "colab_type": "text",
        "id": "MvE-heJNo3GG"
      },
      "source": [
        "### Preprocessing the Training set"
      ]
    },
    {
      "cell_type": "code",
      "execution_count": 3,
      "metadata": {
        "colab": {},
        "colab_type": "code",
        "id": "0koUcJMJpEBD"
      },
      "outputs": [
        {
          "name": "stdout",
          "output_type": "stream",
          "text": [
            "Found 8000 images belonging to 2 classes.\n"
          ]
        }
      ],
      "source": [
        "train_datagen = ImageDataGenerator(rescale = 1./255,\n",
        "                                   shear_range = 0.2,\n",
        "                                   zoom_range = 0.2,\n",
        "                                   horizontal_flip = True)\n",
        "training_set = train_datagen.flow_from_directory('dataset/training_set',\n",
        "                                                 target_size = (64, 64),\n",
        "                                                 batch_size = 32,\n",
        "                                                 class_mode = 'binary')"
      ]
    },
    {
      "cell_type": "markdown",
      "metadata": {
        "colab_type": "text",
        "id": "mrCMmGw9pHys"
      },
      "source": [
        "### Preprocessing the Test set"
      ]
    },
    {
      "cell_type": "code",
      "execution_count": 4,
      "metadata": {
        "colab": {},
        "colab_type": "code",
        "id": "SH4WzfOhpKc3"
      },
      "outputs": [
        {
          "name": "stdout",
          "output_type": "stream",
          "text": [
            "Found 2000 images belonging to 2 classes.\n"
          ]
        }
      ],
      "source": [
        "test_datagen = ImageDataGenerator(rescale = 1./255)\n",
        "test_set = test_datagen.flow_from_directory('dataset/test_set',\n",
        "                                            target_size = (64, 64),\n",
        "                                            batch_size = 32,\n",
        "                                            class_mode = 'binary')"
      ]
    },
    {
      "cell_type": "markdown",
      "metadata": {
        "colab_type": "text",
        "id": "af8O4l90gk7B"
      },
      "source": [
        "## Part 2 - Building the CNN"
      ]
    },
    {
      "cell_type": "markdown",
      "metadata": {
        "colab_type": "text",
        "id": "ces1gXY2lmoX"
      },
      "source": [
        "### Initialising the CNN"
      ]
    },
    {
      "cell_type": "code",
      "execution_count": 5,
      "metadata": {
        "colab": {},
        "colab_type": "code",
        "id": "SAUt4UMPlhLS"
      },
      "outputs": [],
      "source": [
        "cnn = tf.keras.models.Sequential()"
      ]
    },
    {
      "cell_type": "markdown",
      "metadata": {
        "colab_type": "text",
        "id": "u5YJj_XMl5LF"
      },
      "source": [
        "### Step 1 - Convolution"
      ]
    },
    {
      "cell_type": "code",
      "execution_count": 6,
      "metadata": {
        "colab": {},
        "colab_type": "code",
        "id": "XPzPrMckl-hV"
      },
      "outputs": [],
      "source": [
        "cnn.add(tf.keras.layers.Conv2D(filters=32, kernel_size=3, activation='relu', input_shape=[64, 64, 3]))"
      ]
    },
    {
      "cell_type": "markdown",
      "metadata": {
        "colab_type": "text",
        "id": "tf87FpvxmNOJ"
      },
      "source": [
        "### Step 2 - Pooling"
      ]
    },
    {
      "cell_type": "code",
      "execution_count": 7,
      "metadata": {
        "colab": {},
        "colab_type": "code",
        "id": "ncpqPl69mOac"
      },
      "outputs": [],
      "source": [
        "cnn.add(tf.keras.layers.MaxPool2D(pool_size=2, strides=2))"
      ]
    },
    {
      "cell_type": "markdown",
      "metadata": {
        "colab_type": "text",
        "id": "xaTOgD8rm4mU"
      },
      "source": [
        "### Adding a second convolutional layer"
      ]
    },
    {
      "cell_type": "code",
      "execution_count": 8,
      "metadata": {
        "colab": {},
        "colab_type": "code",
        "id": "i_-FZjn_m8gk"
      },
      "outputs": [],
      "source": [
        "cnn.add(tf.keras.layers.Conv2D(filters=32, kernel_size=3, activation='relu'))\n",
        "cnn.add(tf.keras.layers.MaxPool2D(pool_size=2, strides=2))"
      ]
    },
    {
      "cell_type": "markdown",
      "metadata": {
        "colab_type": "text",
        "id": "tmiEuvTunKfk"
      },
      "source": [
        "### Step 3 - Flattening"
      ]
    },
    {
      "cell_type": "code",
      "execution_count": 9,
      "metadata": {
        "colab": {},
        "colab_type": "code",
        "id": "6AZeOGCvnNZn"
      },
      "outputs": [],
      "source": [
        "cnn.add(tf.keras.layers.Flatten())"
      ]
    },
    {
      "cell_type": "markdown",
      "metadata": {
        "colab_type": "text",
        "id": "dAoSECOm203v"
      },
      "source": [
        "### Step 4 - Full Connection"
      ]
    },
    {
      "cell_type": "code",
      "execution_count": 10,
      "metadata": {
        "colab": {},
        "colab_type": "code",
        "id": "8GtmUlLd26Nq"
      },
      "outputs": [],
      "source": [
        "cnn.add(tf.keras.layers.Dense(units=128, activation='relu'))"
      ]
    },
    {
      "cell_type": "markdown",
      "metadata": {
        "colab_type": "text",
        "id": "yTldFvbX28Na"
      },
      "source": [
        "### Step 5 - Output Layer"
      ]
    },
    {
      "cell_type": "code",
      "execution_count": 11,
      "metadata": {
        "colab": {},
        "colab_type": "code",
        "id": "1p_Zj1Mc3Ko_"
      },
      "outputs": [],
      "source": [
        "cnn.add(tf.keras.layers.Dense(units=1, activation='sigmoid'))"
      ]
    },
    {
      "cell_type": "markdown",
      "metadata": {
        "colab_type": "text",
        "id": "D6XkI90snSDl"
      },
      "source": [
        "## Part 3 - Training the CNN"
      ]
    },
    {
      "cell_type": "markdown",
      "metadata": {
        "colab_type": "text",
        "id": "vfrFQACEnc6i"
      },
      "source": [
        "### Compiling the CNN"
      ]
    },
    {
      "cell_type": "code",
      "execution_count": 12,
      "metadata": {
        "colab": {},
        "colab_type": "code",
        "id": "NALksrNQpUlJ"
      },
      "outputs": [],
      "source": [
        "cnn.compile(optimizer = 'adam', loss = 'binary_crossentropy', metrics = ['accuracy'])"
      ]
    },
    {
      "cell_type": "markdown",
      "metadata": {
        "colab_type": "text",
        "id": "ehS-v3MIpX2h"
      },
      "source": [
        "### Training the CNN on the Training set and evaluating it on the Test set"
      ]
    },
    {
      "cell_type": "code",
      "execution_count": 13,
      "metadata": {
        "colab": {},
        "colab_type": "code",
        "id": "XUj1W4PJptta"
      },
      "outputs": [
        {
          "name": "stdout",
          "output_type": "stream",
          "text": [
            "Epoch 1/25\n",
            "250/250 [==============================] - 84s 332ms/step - loss: 0.6900 - accuracy: 0.5485 - val_loss: 0.6599 - val_accuracy: 0.6180\n",
            "Epoch 2/25\n",
            "250/250 [==============================] - 27s 110ms/step - loss: 0.6295 - accuracy: 0.6538 - val_loss: 0.5823 - val_accuracy: 0.6900\n",
            "Epoch 3/25\n",
            "250/250 [==============================] - 29s 117ms/step - loss: 0.5758 - accuracy: 0.6965 - val_loss: 0.5543 - val_accuracy: 0.7165\n",
            "Epoch 4/25\n",
            "250/250 [==============================] - 29s 117ms/step - loss: 0.5380 - accuracy: 0.7294 - val_loss: 0.5444 - val_accuracy: 0.7255\n",
            "Epoch 5/25\n",
            "250/250 [==============================] - 29s 117ms/step - loss: 0.5096 - accuracy: 0.7480 - val_loss: 0.4987 - val_accuracy: 0.7575\n",
            "Epoch 6/25\n",
            "250/250 [==============================] - 28s 113ms/step - loss: 0.4881 - accuracy: 0.7657 - val_loss: 0.5240 - val_accuracy: 0.7505\n",
            "Epoch 7/25\n",
            "250/250 [==============================] - 29s 118ms/step - loss: 0.4733 - accuracy: 0.7725 - val_loss: 0.5011 - val_accuracy: 0.7635\n",
            "Epoch 8/25\n",
            "250/250 [==============================] - 27s 108ms/step - loss: 0.4566 - accuracy: 0.7759 - val_loss: 0.4913 - val_accuracy: 0.7615\n",
            "Epoch 9/25\n",
            "250/250 [==============================] - 27s 110ms/step - loss: 0.4427 - accuracy: 0.7975 - val_loss: 0.5994 - val_accuracy: 0.7365\n",
            "Epoch 10/25\n",
            "250/250 [==============================] - 29s 115ms/step - loss: 0.4267 - accuracy: 0.8008 - val_loss: 0.4743 - val_accuracy: 0.7785\n",
            "Epoch 11/25\n",
            "250/250 [==============================] - 29s 115ms/step - loss: 0.4127 - accuracy: 0.8094 - val_loss: 0.4713 - val_accuracy: 0.7855\n",
            "Epoch 12/25\n",
            "250/250 [==============================] - 29s 117ms/step - loss: 0.3990 - accuracy: 0.8145 - val_loss: 0.4600 - val_accuracy: 0.7925\n",
            "Epoch 13/25\n",
            "250/250 [==============================] - 29s 117ms/step - loss: 0.3890 - accuracy: 0.8223 - val_loss: 0.4648 - val_accuracy: 0.8005\n",
            "Epoch 14/25\n",
            "250/250 [==============================] - 30s 121ms/step - loss: 0.3733 - accuracy: 0.8356 - val_loss: 0.4831 - val_accuracy: 0.7800\n",
            "Epoch 15/25\n",
            "250/250 [==============================] - 32s 130ms/step - loss: 0.3703 - accuracy: 0.8320 - val_loss: 0.4802 - val_accuracy: 0.7845\n",
            "Epoch 16/25\n",
            "250/250 [==============================] - 31s 126ms/step - loss: 0.3626 - accuracy: 0.8389 - val_loss: 0.5274 - val_accuracy: 0.7815\n",
            "Epoch 17/25\n",
            "250/250 [==============================] - 27s 110ms/step - loss: 0.3484 - accuracy: 0.8456 - val_loss: 0.4784 - val_accuracy: 0.8005\n",
            "Epoch 18/25\n",
            "250/250 [==============================] - 28s 111ms/step - loss: 0.3323 - accuracy: 0.8519 - val_loss: 0.4861 - val_accuracy: 0.7990\n",
            "Epoch 19/25\n",
            "250/250 [==============================] - 28s 112ms/step - loss: 0.3215 - accuracy: 0.8620 - val_loss: 0.5390 - val_accuracy: 0.7640\n",
            "Epoch 20/25\n",
            "250/250 [==============================] - 28s 111ms/step - loss: 0.3106 - accuracy: 0.8654 - val_loss: 0.4841 - val_accuracy: 0.8025\n",
            "Epoch 21/25\n",
            "250/250 [==============================] - 30s 119ms/step - loss: 0.2945 - accuracy: 0.8749 - val_loss: 0.5873 - val_accuracy: 0.7750\n",
            "Epoch 22/25\n",
            "250/250 [==============================] - 29s 117ms/step - loss: 0.2917 - accuracy: 0.8752 - val_loss: 0.5691 - val_accuracy: 0.7795\n",
            "Epoch 23/25\n",
            "250/250 [==============================] - 29s 117ms/step - loss: 0.2760 - accuracy: 0.8819 - val_loss: 0.5272 - val_accuracy: 0.7990\n",
            "Epoch 24/25\n",
            "250/250 [==============================] - 30s 119ms/step - loss: 0.2618 - accuracy: 0.8892 - val_loss: 0.5278 - val_accuracy: 0.8055\n",
            "Epoch 25/25\n",
            "250/250 [==============================] - 30s 120ms/step - loss: 0.2417 - accuracy: 0.8984 - val_loss: 0.5491 - val_accuracy: 0.8005\n"
          ]
        },
        {
          "data": {
            "text/plain": [
              "<keras.callbacks.History at 0x239bd0fbf40>"
            ]
          },
          "execution_count": 13,
          "metadata": {},
          "output_type": "execute_result"
        }
      ],
      "source": [
        "cnn.fit(x = training_set, validation_data = test_set, epochs = 100)"
      ]
    },
    {
      "cell_type": "markdown",
      "metadata": {
        "colab_type": "text",
        "id": "U3PZasO0006Z"
      },
      "source": [
        "## Part 4 - Making a single prediction"
      ]
    },
    {
      "cell_type": "code",
      "execution_count": 14,
      "metadata": {
        "colab": {},
        "colab_type": "code",
        "id": "gsSiWEJY1BPB"
      },
      "outputs": [],
      "source": [
        "import numpy as np\n",
        "from keras.preprocessing import image\n",
        "test_image = image.load_img('dataset/single_prediction/cat_or_dog_1.jpg', target_size = (64, 64))\n",
        "test_image = image.img_to_array(test_image)\n",
        "test_image = np.expand_dims(test_image, axis = 0)\n",
        "result = cnn.predict(test_image)\n",
        "training_set.class_indices\n",
        "if result[0][0] == 1:\n",
        "  prediction = 'dog'\n",
        "else:\n",
        "  prediction = 'cat'"
      ]
    },
    {
      "cell_type": "code",
      "execution_count": 15,
      "metadata": {
        "colab": {},
        "colab_type": "code",
        "id": "ED9KB3I54c1i"
      },
      "outputs": [
        {
          "name": "stdout",
          "output_type": "stream",
          "text": [
            "dog\n"
          ]
        }
      ],
      "source": [
        "print(prediction)"
      ]
    }
  ],
  "metadata": {
    "colab": {
      "collapsed_sections": [],
      "name": "convolutional_neural_network.ipynb",
      "provenance": [],
      "toc_visible": true
    },
    "kernelspec": {
      "display_name": "Python 3.10.6 64-bit",
      "language": "python",
      "name": "python3"
    },
    "language_info": {
      "codemirror_mode": {
        "name": "ipython",
        "version": 3
      },
      "file_extension": ".py",
      "mimetype": "text/x-python",
      "name": "python",
      "nbconvert_exporter": "python",
      "pygments_lexer": "ipython3",
      "version": "3.10.6"
    },
    "vscode": {
      "interpreter": {
        "hash": "6eb1ca0e59ab85dc9eb8be3744d92e9e4e7eb514696998a8a0ffac57ba5d31d3"
      }
    }
  },
  "nbformat": 4,
  "nbformat_minor": 0
}
